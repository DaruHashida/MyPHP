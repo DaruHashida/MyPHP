{
  "nbformat": 4,
  "nbformat_minor": 0,
  "metadata": {
    "colab": {
      "provenance": [],
      "gpuType": "T4",
      "authorship_tag": "ABX9TyMjpJ3wBATamHMu2rKPjvPK",
      "include_colab_link": true
    },
    "kernelspec": {
      "name": "python3",
      "display_name": "Python 3"
    },
    "language_info": {
      "name": "python"
    },
    "accelerator": "GPU"
  },
  "cells": [
    {
      "cell_type": "markdown",
      "metadata": {
        "id": "view-in-github",
        "colab_type": "text"
      },
      "source": [
        "<a href=\"https://colab.research.google.com/github/DaruHashida/MyPHP/blob/main/%22digits_recognition_exercise_ipynb%22.ipynb\" target=\"_parent\"><img src=\"https://colab.research.google.com/assets/colab-badge.svg\" alt=\"Open In Colab\"/></a>"
      ]
    },
    {
      "cell_type": "code",
      "execution_count": 41,
      "metadata": {
        "id": "jprUm7hx4FRG",
        "colab": {
          "base_uri": "https://localhost:8080/",
          "height": 447
        },
        "outputId": "674a0085-46fe-46c9-c57b-ac8bc4a03cfd"
      },
      "outputs": [
        {
          "output_type": "execute_result",
          "data": {
            "text/plain": [
              "<matplotlib.image.AxesImage at 0x7f22876fc0d0>"
            ]
          },
          "metadata": {},
          "execution_count": 41
        },
        {
          "output_type": "display_data",
          "data": {
            "text/plain": [
              "<Figure size 640x480 with 1 Axes>"
            ],
            "image/png": "[encoded data removed]"
          },
          "metadata": {}
        }
      ],
      "source": [
        "import torch\n",
        "from torch import nn\n",
        "import matplotlib.pyplot as plt\n",
        "\n",
        "# Device agnostic code\n",
        "\n",
        "device = \"cuda\" if torch.cuda.is_available() else \"cpu\"\n",
        "\n",
        "##LET'S CREATE A DATASET\n",
        "from pathlib import Path\n",
        "import requests\n",
        "\n",
        "DATA_PATH = Path(\"data\")\n",
        "PATH = DATA_PATH / \"mnist\"\n",
        "\n",
        "PATH.mkdir(parents=True, exist_ok = True)\n",
        "\n",
        "URL = \"https://github.com/pytorch/tutorials/raw/main/_static/\"\n",
        "FILENAME = \"mnist.pkl.gz\"\n",
        "\n",
        "if not (PATH/FILENAME).exists():\n",
        "  content = requests.get(URL + FILENAME).content\n",
        "  (PATH/FILENAME).open(\"wb\").write(content)\n",
        "\n",
        "import pickle\n",
        "import gzip\n",
        "with gzip.open((PATH/FILENAME).as_posix(),\"rb\") as f:\n",
        "  ((X_train, y_train),(X_test, y_test), _ )= pickle.load(f, encoding=\"latin-1\")\n",
        "\n",
        "import matplotlib.pyplot as plt\n",
        "import numpy as np\n",
        "plt.imshow(X_train[5].reshape((28,28)),cmap=\"gray\")"
      ]
    },
    {
      "cell_type": "code",
      "source": [
        "X_train, y_train, X_test, y_test = map (torch.tensor, (X_train, y_train, X_test, y_test))"
      ],
      "metadata": {
        "id": "dl3njxx8Mgih"
      },
      "execution_count": 2,
      "outputs": []
    },
    {
      "cell_type": "code",
      "source": [
        "#Let's build the model\n",
        "\n",
        "class PicturesRecognitionModel(nn.Module):\n",
        "  def __init__(self):\n",
        "    super().__init__()\n",
        "    self.weights = nn.Parameter(torch.randn(784, 10,\n",
        "                                            requires_grad=True,\n",
        "                                            dtype=torch.float))\n",
        "    self.bias = nn.Parameter(torch.zeros(10,\n",
        "                                            requires_grad=True,\n",
        "                                            dtype=torch.float))\n",
        "  def forward(self,xb: torch.Tensor) -> torch.Tensor:\n",
        "    return xb @ self.weights + self.bias"
      ],
      "metadata": {
        "id": "kUkVdwu-06zh"
      },
      "execution_count": 3,
      "outputs": []
    },
    {
      "cell_type": "code",
      "source": [
        "model = PicturesRecognitionModel()\n",
        "model.to(device)\n",
        "model.state_dict()"
      ],
      "metadata": {
        "colab": {
          "base_uri": "https://localhost:8080/"
        },
        "id": "BGyQEXWs7Hw4",
        "outputId": "87c3481d-5181-4327-a862-f01c9618bf62"
      },
      "execution_count": 4,
      "outputs": [
        {
          "output_type": "execute_result",
          "data": {
            "text/plain": [
              "OrderedDict([('weights',\n",
              "              tensor([[ 1.3059, -1.1144, -0.1988,  ..., -0.3084,  1.1563,  1.0588],\n",
              "                      [ 0.9666, -0.0726,  0.6398,  ..., -0.3003,  2.2224, -1.0997],\n",
              "                      [-1.1781,  1.3730,  0.6715,  ..., -0.8956,  0.1486, -0.9591],\n",
              "                      ...,\n",
              "                      [ 0.0307, -0.6940, -0.3698,  ...,  0.0990, -0.3047,  1.8062],\n",
              "                      [-0.1713, -0.9036,  0.1490,  ..., -1.1436,  0.8607, -1.0654],\n",
              "                      [ 1.9864,  1.5283,  2.3416,  ...,  1.3450, -1.9949,  0.3544]],\n",
              "                     device='cuda:0')),\n",
              "             ('bias',\n",
              "              tensor([0., 0., 0., 0., 0., 0., 0., 0., 0., 0.], device='cuda:0'))])"
            ]
          },
          "metadata": {},
          "execution_count": 4
        }
      ]
    },
    {
      "cell_type": "code",
      "source": [
        "#Create loss function\n",
        "##loss_fn = nn.NLLLoss()\n",
        "# def nll(input, target):\n",
        "#     return -input[range(target.shape[0]), target].mean()\n",
        "#loss_fn = nll\n",
        "import torch.nn.functional as F\n",
        "loss_fn = F.cross_entropy\n",
        "optimizer = torch.optim.SGD(params=model.parameters(),\n",
        "                            lr=0.5)"
      ],
      "metadata": {
        "id": "IKLE7MOz7OrL"
      },
      "execution_count": 5,
      "outputs": []
    },
    {
      "cell_type": "code",
      "source": [
        "#Saving images count to variable\n",
        "n = X_train.shape[0]\n",
        "#Saving batch size to variable\n",
        "batch = 64\n",
        "X_test.shape"
      ],
      "metadata": {
        "colab": {
          "base_uri": "https://localhost:8080/"
        },
        "id": "trKlujaORaoc",
        "outputId": "08aff3a1-f8cd-480d-e609-436b666530bd"
      },
      "execution_count": 6,
      "outputs": [
        {
          "output_type": "execute_result",
          "data": {
            "text/plain": [
              "torch.Size([10000, 784])"
            ]
          },
          "metadata": {},
          "execution_count": 6
        }
      ]
    },
    {
      "cell_type": "code",
      "source": [
        "def accuracy(out, yb):\n",
        "    preds = torch.argmax(out, dim=1)\n",
        "    return (preds == yb).float().mean()"
      ],
      "metadata": {
        "id": "uNTvv008f3eO"
      },
      "execution_count": 7,
      "outputs": []
    },
    {
      "cell_type": "code",
      "source": [
        "epochs = 200\n",
        "#Removing data on device\n",
        "X_train = X_train.to(device)\n",
        "X_test = X_test.to(device)\n",
        "y_train = y_train.to(device)\n",
        "y_test = y_test.to(device)\n",
        "#Training loop\n",
        "\n",
        "for epoch in range(epochs):\n",
        "  for i in range((n - 1)// batch + 1):\n",
        "    model.train()\n",
        "    start_i = i*batch\n",
        "    end_i = start_i+batch\n",
        "    Xb = X_train[start_i:end_i]\n",
        "    yb = y_train[start_i:end_i]\n",
        "\n",
        "    y_pred = model(Xb)\n",
        "    loss = loss_fn(y_pred, yb)\n",
        "    optimizer.zero_grad()\n",
        "    loss.backward()\n",
        "    optimizer.step()\n",
        "\n",
        "    #Testing loop\n",
        "\n",
        "    model.eval()\n",
        "    with torch.inference_mode():\n",
        "      start_i_test = start_i//5\n",
        "      end_i_test = end_i//5\n",
        "      Xb_test = X_test[start_i_test: end_i_test]\n",
        "      yb_test = y_test[start_i_test: end_i_test]\n",
        "      test_pred = model(Xb_test)\n",
        "      test_accuracy = accuracy(test_pred,yb_test)\n",
        "      main_accuracy = accuracy(y_pred,yb)\n",
        "      loss_value = loss_fn(y_pred,yb)\n",
        "  if epoch % 10 == 0:\n",
        "    print(f\"Epoch:{epoch}| Loss: {loss_value} | Test_accuracy:{test_accuracy} | Accuracy: {main_accuracy}\")"
      ],
      "metadata": {
        "colab": {
          "base_uri": "https://localhost:8080/"
        },
        "id": "bU8AwOkn9zwz",
        "outputId": "7ad3e4c8-6425-4f16-88cb-68fa29e74b53"
      },
      "execution_count": 8,
      "outputs": [
        {
          "output_type": "stream",
          "name": "stdout",
          "text": [
            "Epoch:0| Loss: 1.0014623403549194 | Test_accuracy:0.75 | Accuracy: 0.6875\n",
            "Epoch:10| Loss: 0.17034205794334412 | Test_accuracy:1.0 | Accuracy: 0.9375\n",
            "Epoch:20| Loss: 0.1333320140838623 | Test_accuracy:1.0 | Accuracy: 0.9375\n",
            "Epoch:30| Loss: 0.12023746222257614 | Test_accuracy:1.0 | Accuracy: 1.0\n",
            "Epoch:40| Loss: 0.11174559593200684 | Test_accuracy:1.0 | Accuracy: 1.0\n",
            "Epoch:50| Loss: 0.10556905716657639 | Test_accuracy:1.0 | Accuracy: 1.0\n",
            "Epoch:60| Loss: 0.10083410888910294 | Test_accuracy:1.0 | Accuracy: 1.0\n",
            "Epoch:70| Loss: 0.09708678722381592 | Test_accuracy:1.0 | Accuracy: 1.0\n",
            "Epoch:80| Loss: 0.09405438601970673 | Test_accuracy:1.0 | Accuracy: 1.0\n",
            "Epoch:90| Loss: 0.0915522426366806 | Test_accuracy:1.0 | Accuracy: 1.0\n",
            "Epoch:100| Loss: 0.08945208042860031 | Test_accuracy:1.0 | Accuracy: 1.0\n",
            "Epoch:110| Loss: 0.08766122162342072 | Test_accuracy:1.0 | Accuracy: 1.0\n",
            "Epoch:120| Loss: 0.08611347526311874 | Test_accuracy:1.0 | Accuracy: 1.0\n",
            "Epoch:130| Loss: 0.08475945144891739 | Test_accuracy:1.0 | Accuracy: 1.0\n",
            "Epoch:140| Loss: 0.0835641399025917 | Test_accuracy:1.0 | Accuracy: 1.0\n",
            "Epoch:150| Loss: 0.08249929547309875 | Test_accuracy:1.0 | Accuracy: 1.0\n",
            "Epoch:160| Loss: 0.08154397457838058 | Test_accuracy:1.0 | Accuracy: 1.0\n",
            "Epoch:170| Loss: 0.08068182319402695 | Test_accuracy:1.0 | Accuracy: 1.0\n",
            "Epoch:180| Loss: 0.07989956438541412 | Test_accuracy:1.0 | Accuracy: 1.0\n",
            "Epoch:190| Loss: 0.07918663322925568 | Test_accuracy:1.0 | Accuracy: 1.0\n"
          ]
        }
      ]
    },
    {
      "cell_type": "code",
      "source": [
        "with torch.inference_mode():\n",
        "  y_preds = model(X_test)"
      ],
      "metadata": {
        "id": "RIbqDtqxAXiH"
      },
      "execution_count": 9,
      "outputs": []
    },
    {
      "cell_type": "code",
      "source": [
        "xb = X_train[:batch]\n",
        "yb = y_train[:batch]\n",
        "loss_fn(model(xb), yb)\n",
        "\n"
      ],
      "metadata": {
        "colab": {
          "base_uri": "https://localhost:8080/"
        },
        "id": "cNyNWtwMisHp",
        "outputId": "34f0e368-b9f8-4926-e58f-effafe5dd35c"
      },
      "execution_count": 10,
      "outputs": [
        {
          "output_type": "execute_result",
          "data": {
            "text/plain": [
              "tensor(0.1238, device='cuda:0', grad_fn=<NllLossBackward0>)"
            ]
          },
          "metadata": {},
          "execution_count": 10
        }
      ]
    },
    {
      "cell_type": "code",
      "source": [
        "from pathlib import Path\n",
        "\n",
        "MODEL_PATH = Path(\"models\")\n",
        "MODEL_PATH.mkdir(parents=True, exist_ok = True)\n",
        "\n",
        "MODEL_NAME = \"01_pytorch_homework.pth\"\n",
        "MODEL_SAVE_PATH = MODEL_PATH / MODEL_NAME\n",
        "\n",
        "MODEL_SAVE_PATH"
      ],
      "metadata": {
        "colab": {
          "base_uri": "https://localhost:8080/"
        },
        "id": "2XiVtsG1p4LX",
        "outputId": "8c1aa0c6-7542-4c2e-eb2d-c5a8a9979b38"
      },
      "execution_count": 11,
      "outputs": [
        {
          "output_type": "execute_result",
          "data": {
            "text/plain": [
              "PosixPath('models/01_pytorch_homework.pth')"
            ]
          },
          "metadata": {},
          "execution_count": 11
        }
      ]
    },
    {
      "cell_type": "code",
      "source": [
        "torch.save(f=MODEL_SAVE_PATH, obj = model.state_dict())"
      ],
      "metadata": {
        "id": "PzAEjiSDqCzL"
      },
      "execution_count": 12,
      "outputs": []
    },
    {
      "cell_type": "code",
      "source": [
        "#PREPARE OWN PICTURE\n",
        "from PIL import Image, ImageFilter\n",
        "\n",
        "\n",
        "def imageprepare(argv):\n",
        "    \"\"\"\n",
        "    This function returns the pixel values.\n",
        "    The imput is a png file location.\n",
        "    \"\"\"\n",
        "    im = Image.open(argv).convert('L')\n",
        "    width = float(im.size[0])\n",
        "    height = float(im.size[1])\n",
        "    newImage = Image.new('L', (28, 28), (255))  # creates white canvas of 28x28 pixelsn\n",
        "    img = im.resize((28, 28), Image.ANTIALIAS).filter(ImageFilter.SHARPEN)\n",
        "    newImage.paste(img)\n",
        "    # newImage.save(\"sample.png\n",
        "\n",
        "    tv = list(newImage.getdata())  # get pixel values\n",
        "\n",
        "    # normalize pixels to 0 and 1. 0 is pure white, 1 is pure black.\n",
        "    tva = np.array([(255 - x) * 1.0 / 255.0 for x in tv])\n",
        "    plt.imshow(tva.reshape((28,28)),cmap=\"gray\")\n",
        "    print(tva)\n",
        "    return tva"
      ],
      "metadata": {
        "id": "KbCXiWpTBtEb"
      },
      "execution_count": 118,
      "outputs": []
    },
    {
      "cell_type": "markdown",
      "source": [],
      "metadata": {
        "id": "CSRFOKv7ZYgj"
      }
    },
    {
      "cell_type": "code",
      "source": [
        "X_train[0].dtype"
      ],
      "metadata": {
        "colab": {
          "base_uri": "https://localhost:8080/"
        },
        "id": "IvYkRlN8XEzV",
        "outputId": "8cdee3aa-f807-4e11-a3be-1a4a433983ef"
      },
      "execution_count": 81,
      "outputs": [
        {
          "output_type": "execute_result",
          "data": {
            "text/plain": [
              "dtype('float32')"
            ]
          },
          "metadata": {},
          "execution_count": 81
        }
      ]
    },
    {
      "cell_type": "code",
      "source": [
        "x=imageprepare('./picture3.jpg')#file path here\n",
        "print(len(x))# mnist IMAGES are 28x28=784 pixels"
      ],
      "metadata": {
        "colab": {
          "base_uri": "https://localhost:8080/",
          "height": 1000
        },
        "id": "SB9GwPD6FhjE",
        "outputId": "7f312873-96eb-42ce-be48-db1604e60428"
      },
      "execution_count": 123,
      "outputs": [
        {
          "output_type": "stream",
          "name": "stderr",
          "text": [
            "<ipython-input-118-674d87cb558a>:14: DeprecationWarning: ANTIALIAS is deprecated and will be removed in Pillow 10 (2023-07-01). Use LANCZOS or Resampling.LANCZOS instead.\n",
            "  img = im.resize((28, 28), Image.ANTIALIAS).filter(ImageFilter.SHARPEN)\n"
          ]
        },
        {
          "output_type": "stream",
          "name": "stdout",
          "text": [
            "[0.01568627 0.01568627 0.01568627 0.01568627 0.01568627 0.01568627\n",
            " 0.01568627 0.01176471 0.01176471 0.01176471 0.01176471 0.01176471\n",
            " 0.01176471 0.01176471 0.01176471 0.01176471 0.01176471 0.01176471\n",
            " 0.01176471 0.01176471 0.01176471 0.01176471 0.01176471 0.01176471\n",
            " 0.01176471 0.01176471 0.01176471 0.01176471 0.01568627 0.01568627\n",
            " 0.01568627 0.01568627 0.01568627 0.00784314 0.01176471 0.01176471\n",
            " 0.01176471 0.01176471 0.01176471 0.01176471 0.01176471 0.01176471\n",
            " 0.01176471 0.01176471 0.01176471 0.01176471 0.01176471 0.01176471\n",
            " 0.01176471 0.01176471 0.01176471 0.01176471 0.01176471 0.01176471\n",
            " 0.01176471 0.01176471 0.01568627 0.01568627 0.01568627 0.01568627\n",
            " 0.01568627 0.01568627 0.01176471 0.01176471 0.01176471 0.01176471\n",
            " 0.01176471 0.01176471 0.01176471 0.01176471 0.01176471 0.01176471\n",
            " 0.01176471 0.01176471 0.01176471 0.01176471 0.01176471 0.01176471\n",
            " 0.01176471 0.01176471 0.01176471 0.01176471 0.01176471 0.01176471\n",
            " 0.01568627 0.01568627 0.01568627 0.01568627 0.01568627 0.01568627\n",
            " 0.01176471 0.01176471 0.01176471 0.01176471 0.01176471 0.01176471\n",
            " 0.01176471 0.01176471 0.01176471 0.01176471 0.01176471 0.01176471\n",
            " 0.01176471 0.01176471 0.01176471 0.01176471 0.01176471 0.01176471\n",
            " 0.01176471 0.01176471 0.01176471 0.01176471 0.01568627 0.01568627\n",
            " 0.01568627 0.01568627 0.01568627 0.01568627 0.00784314 0.01176471\n",
            " 0.01176471 0.01176471 0.01176471 0.01176471 0.01176471 0.01176471\n",
            " 0.01176471 0.01176471 0.01176471 0.01176471 0.01176471 0.01176471\n",
            " 0.01176471 0.01176471 0.01176471 0.01176471 0.01176471 0.01176471\n",
            " 0.01176471 0.01176471 0.01568627 0.01568627 0.01568627 0.01568627\n",
            " 0.01568627 0.01568627 0.01568627 0.01176471 0.01176471 0.01176471\n",
            " 0.01176471 0.01176471 0.01176471 0.01176471 0.01176471 0.01176471\n",
            " 0.00784314 0.00784314 0.01176471 0.01176471 0.01568627 0.01568627\n",
            " 0.02352941 0.02352941 0.01176471 0.01176471 0.00784314 0.01176471\n",
            " 0.01568627 0.01568627 0.01568627 0.01568627 0.01568627 0.01568627\n",
            " 0.01568627 0.01568627 0.01176471 0.01176471 0.01176471 0.01176471\n",
            " 0.         0.         0.01176471 0.02352941 0.03137255 0.03137255\n",
            " 0.02352941 0.01176471 0.         0.         0.         0.\n",
            " 0.         0.         0.00784314 0.01568627 0.01568627 0.01568627\n",
            " 0.01568627 0.01568627 0.01568627 0.01568627 0.01568627 0.01568627\n",
            " 0.00784314 0.01960784 0.01176471 0.         0.00392157 0.01960784\n",
            " 0.         0.         0.         0.         0.         0.\n",
            " 0.         0.04705882 0.07843137 0.11764706 0.08235294 0.3372549\n",
            " 0.10196078 0.00784314 0.01568627 0.01568627 0.01568627 0.01568627\n",
            " 0.01568627 0.01568627 0.01568627 0.01568627 0.00784314 0.01176471\n",
            " 0.00784314 0.         0.28235294 0.16078431 0.         0.12941176\n",
            " 0.25882353 0.30980392 0.34901961 0.36862745 0.37647059 0.24705882\n",
            " 0.12156863 0.05098039 0.00784314 0.02352941 0.         0.01176471\n",
            " 0.01568627 0.01568627 0.01568627 0.01568627 0.01568627 0.01568627\n",
            " 0.01568627 0.01176471 0.01176471 0.01960784 0.         0.12941176\n",
            " 0.21960784 0.28235294 0.2745098  0.31764706 0.26666667 0.1372549\n",
            " 0.03529412 0.         0.         0.         0.         0.\n",
            " 0.         0.         0.00784314 0.01176471 0.01568627 0.01568627\n",
            " 0.01568627 0.01568627 0.01568627 0.01568627 0.01176471 0.01176471\n",
            " 0.01176471 0.         0.         0.50980392 0.         0.03921569\n",
            " 0.         0.         0.         0.         0.         0.00392157\n",
            " 0.02745098 0.02745098 0.01960784 0.01176471 0.01176471 0.01176471\n",
            " 0.01176471 0.01176471 0.01568627 0.01568627 0.01568627 0.01568627\n",
            " 0.01568627 0.00784314 0.01176471 0.01176471 0.01960784 0.\n",
            " 0.31372549 0.20392157 0.         0.03529412 0.02745098 0.03529412\n",
            " 0.03529412 0.02352941 0.01568627 0.01176471 0.00784314 0.01568627\n",
            " 0.01568627 0.01176471 0.01176471 0.01176471 0.01176471 0.01176471\n",
            " 0.01568627 0.01568627 0.01568627 0.01568627 0.01568627 0.00784314\n",
            " 0.01176471 0.02352941 0.         0.07058824 0.2745098  0.\n",
            " 0.         0.01568627 0.01176471 0.01176471 0.01568627 0.00784314\n",
            " 0.01176471 0.01176471 0.01176471 0.01176471 0.01176471 0.01960784\n",
            " 0.01176471 0.01176471 0.01176471 0.01176471 0.01568627 0.01568627\n",
            " 0.01568627 0.01568627 0.01568627 0.00784314 0.01568627 0.\n",
            " 0.00392157 0.34901961 0.15686275 0.36470588 0.19215686 0.\n",
            " 0.01568627 0.01176471 0.01568627 0.01568627 0.01176471 0.01176471\n",
            " 0.01176471 0.01176471 0.01176471 0.01176471 0.01176471 0.01176471\n",
            " 0.01176471 0.01176471 0.01568627 0.01568627 0.00784314 0.00784314\n",
            " 0.01568627 0.01960784 0.         0.         0.49019608 0.21176471\n",
            " 0.01960784 0.         0.48627451 0.20392157 0.         0.03529412\n",
            " 0.01960784 0.01568627 0.01568627 0.01176471 0.01176471 0.01176471\n",
            " 0.01176471 0.01176471 0.01176471 0.01176471 0.01176471 0.01176471\n",
            " 0.01568627 0.01568627 0.00784314 0.01176471 0.00784314 0.01960784\n",
            " 0.         0.34901961 0.18039216 0.         0.         0.\n",
            " 0.00784314 0.52941176 0.         0.05490196 0.02352941 0.01176471\n",
            " 0.01568627 0.00784314 0.01176471 0.01176471 0.01176471 0.01176471\n",
            " 0.01176471 0.01176471 0.01176471 0.01176471 0.01568627 0.01568627\n",
            " 0.00784314 0.01568627 0.00784314 0.01176471 0.         0.\n",
            " 0.         0.01176471 0.04313725 0.         0.1372549  0.4\n",
            " 0.         0.05098039 0.02352941 0.01960784 0.01568627 0.01568627\n",
            " 0.01176471 0.01176471 0.01176471 0.01176471 0.01176471 0.01176471\n",
            " 0.01176471 0.01176471 0.01568627 0.01568627 0.01568627 0.01960784\n",
            " 0.02745098 0.01960784 0.01960784 0.01960784 0.03529412 0.\n",
            " 0.         0.0627451  0.61960784 0.01176471 0.         0.02745098\n",
            " 0.01568627 0.01960784 0.01568627 0.01568627 0.01176471 0.01176471\n",
            " 0.01176471 0.01176471 0.01176471 0.01176471 0.01176471 0.01176471\n",
            " 0.01568627 0.01568627 0.01176471 0.         0.         0.\n",
            " 0.         0.         0.         0.         0.29803922 0.56862745\n",
            " 0.03529412 0.         0.02745098 0.02352941 0.01960784 0.01176471\n",
            " 0.01568627 0.01568627 0.00784314 0.01176471 0.01176471 0.01176471\n",
            " 0.01176471 0.01176471 0.01176471 0.01176471 0.01176471 0.01960784\n",
            " 0.         0.09019608 0.29803922 0.         0.         0.07843137\n",
            " 0.21960784 0.41176471 0.25490196 0.         0.         0.03529412\n",
            " 0.01568627 0.02745098 0.01960784 0.01568627 0.01568627 0.01568627\n",
            " 0.01568627 0.01176471 0.01176471 0.01176471 0.01176471 0.01176471\n",
            " 0.01176471 0.01176471 0.01176471 0.01960784 0.         0.0745098\n",
            " 0.38039216 0.29803922 0.41568627 0.40392157 0.14509804 0.\n",
            " 0.         0.01568627 0.03137255 0.02352941 0.01568627 0.01960784\n",
            " 0.01176471 0.01568627 0.01568627 0.01568627 0.01568627 0.00784314\n",
            " 0.01176471 0.01960784 0.01176471 0.01176471 0.01176471 0.01176471\n",
            " 0.01176471 0.00784314 0.01176471 0.         0.         0.\n",
            " 0.         0.         0.         0.00784314 0.03529412 0.02352941\n",
            " 0.02352941 0.02352941 0.01960784 0.02352941 0.01568627 0.01568627\n",
            " 0.01568627 0.01568627 0.01568627 0.01568627 0.00784314 0.01568627\n",
            " 0.00784314 0.01176471 0.01176471 0.01176471 0.01176471 0.01568627\n",
            " 0.02352941 0.02352941 0.03137255 0.01176471 0.01568627 0.03529412\n",
            " 0.03137255 0.01960784 0.02352941 0.02352941 0.02352941 0.02745098\n",
            " 0.01176471 0.01176471 0.01568627 0.01568627 0.01568627 0.01568627\n",
            " 0.01568627 0.01568627 0.01568627 0.01568627 0.01568627 0.01960784\n",
            " 0.01176471 0.01176471 0.01568627 0.01176471 0.02745098 0.02352941\n",
            " 0.02352941 0.02745098 0.01960784 0.01176471 0.01176471 0.01176471\n",
            " 0.01960784 0.02352941 0.02352941 0.01960784 0.01960784 0.01960784\n",
            " 0.01176471 0.01568627 0.01568627 0.01568627 0.01568627 0.01568627\n",
            " 0.01568627 0.01568627 0.00784314 0.01960784 0.01960784 0.01176471\n",
            " 0.01568627 0.01960784 0.02352941 0.02352941 0.02352941 0.02352941\n",
            " 0.02352941 0.01960784 0.01176471 0.01960784 0.01960784 0.01960784\n",
            " 0.01960784 0.02745098 0.01960784 0.01960784 0.01960784 0.02352941\n",
            " 0.01568627 0.01568627 0.01568627 0.01568627 0.01568627 0.00784314\n",
            " 0.01176471 0.01176471 0.01176471 0.01176471 0.01568627 0.01960784\n",
            " 0.03137255 0.02352941 0.02352941 0.02352941 0.02352941 0.02352941\n",
            " 0.01960784 0.01960784 0.01960784 0.01960784 0.00784314 0.02745098\n",
            " 0.01960784 0.01960784 0.01960784 0.01960784 0.01568627 0.01568627\n",
            " 0.01568627 0.01568627 0.00784314 0.01960784 0.01176471 0.01176471\n",
            " 0.01176471 0.01176471 0.01568627 0.01176471 0.02745098 0.02352941\n",
            " 0.02352941 0.02352941 0.03137255 0.02352941 0.02352941 0.02352941\n",
            " 0.02352941 0.02352941 0.02352941 0.02745098 0.01960784 0.01960784\n",
            " 0.01960784 0.01960784 0.01176471 0.01568627 0.01568627 0.01568627\n",
            " 0.01568627 0.01176471 0.01176471 0.01176471 0.01176471 0.01176471\n",
            " 0.01568627 0.01568627 0.01960784 0.02352941 0.02352941 0.02352941\n",
            " 0.02745098 0.02352941 0.02352941 0.02352941 0.02352941 0.02352941\n",
            " 0.02352941 0.01960784 0.01960784 0.01960784 0.01960784 0.01960784\n",
            " 0.01960784 0.01568627 0.01568627 0.01568627 0.01176471 0.01176471\n",
            " 0.01176471 0.01176471 0.01176471 0.01176471]\n",
            "784\n"
          ]
        },
        {
          "output_type": "display_data",
          "data": {
            "text/plain": [
              "<Figure size 640x480 with 1 Axes>"
            ],
            "image/png": "[encoded data removed]"
          },
          "metadata": {}
        }
      ]
    },
    {
      "cell_type": "code",
      "source": [
        "data = x\n",
        "prepared_data = torch.tensor(data, device = device,dtype=torch.float32)\n",
        "with torch.inference_mode():\n",
        "  res = model(prepared_data)\n",
        "result = int(res.argmax())\n",
        "print(f\"Это цифра: {result}\")\n",
        "print(res)"
      ],
      "metadata": {
        "colab": {
          "base_uri": "https://localhost:8080/"
        },
        "id": "jlnrv6MsPl0S",
        "outputId": "1189a11e-af43-4b4b-dbad-342a99119945"
      },
      "execution_count": 124,
      "outputs": [
        {
          "output_type": "stream",
          "name": "stdout",
          "text": [
            "Это цифра: 5\n",
            "tensor([ 1.2630, -0.3496,  2.9589,  2.1462, -1.3709,  4.8028, -3.0959,  0.1007,\n",
            "         0.1420, -0.2957], device='cuda:0')\n"
          ]
        }
      ]
    },
    {
      "cell_type": "code",
      "source": [
        "prepared_data"
      ],
      "metadata": {
        "colab": {
          "base_uri": "https://localhost:8080/"
        },
        "id": "LNf73KRiX8mz",
        "outputId": "44b11f2d-eecc-400c-9f56-d009b405c4bb"
      },
      "execution_count": 98,
      "outputs": [
        {
          "output_type": "execute_result",
          "data": {
            "text/plain": [
              "tensor([[152., 148., 154., 151., 150., 153., 148., 152., 149., 146., 146., 147.,\n",
              "         147., 152., 151., 149., 152., 147., 150., 151., 150., 153., 152., 157.,\n",
              "         160., 159., 158., 161., 150., 152., 151., 149., 151., 151., 148., 144.,\n",
              "         140., 140., 142., 151., 141., 147., 146., 147., 148., 148., 150., 147.,\n",
              "         148., 152., 147., 151., 158., 161., 162., 161., 148., 150., 154., 153.,\n",
              "         153., 147., 145., 143., 147., 144., 145., 145., 145., 144., 144., 148.,\n",
              "         148., 152., 150., 146., 142., 149., 153., 159., 154., 157., 155., 161.,\n",
              "         137., 144., 146., 151., 150., 150., 149., 150., 139., 142., 141., 141.,\n",
              "         143., 141., 143., 142., 146., 148., 149., 139., 149., 151., 150., 150.,\n",
              "         151., 151., 157., 159., 129., 128., 145., 151., 152., 152., 151., 154.,\n",
              "         149., 137., 147., 143., 139., 144., 144., 145., 145., 151., 135.,  76.,\n",
              "         152., 151., 149., 151., 152., 155., 154., 156., 131., 130., 131., 133.,\n",
              "         141., 146., 148., 152., 153., 136., 140., 144., 146., 141., 140., 145.,\n",
              "         147., 146., 148., 107., 145., 150., 141., 150., 152., 145., 153., 150.,\n",
              "         136., 136., 131., 143., 138., 134., 147., 147., 142., 141., 151., 142.,\n",
              "         143., 143., 146., 145., 150., 149., 149., 144., 148., 148., 151., 150.,\n",
              "         157., 152., 152., 149., 141., 146., 143., 145., 143., 141., 147., 147.,\n",
              "         139., 147., 144., 143., 141., 146., 139., 134., 148., 144., 148., 144.,\n",
              "         147., 143., 146., 150., 152., 150., 153., 156., 150., 147., 150., 146.,\n",
              "         146., 146., 146., 144., 121., 147., 147., 141., 147., 148., 147., 143.,\n",
              "         145., 148., 129., 145., 147., 148., 145., 154., 147., 151., 150., 154.,\n",
              "         152., 150., 149., 148., 150., 149., 146., 152.,  93., 147., 151., 145.,\n",
              "         149., 146., 144., 143., 142., 147., 111., 145., 152., 149., 148., 147.,\n",
              "         153., 154., 154., 153., 146., 146., 143., 149., 149., 145., 149., 152.,\n",
              "          69., 144., 150., 149., 147., 143., 147., 144., 145., 147.,  84., 142.,\n",
              "         143., 146., 149., 148., 151., 150., 151., 160., 152., 151., 151., 148.,\n",
              "         150., 149., 152., 155., 142., 140., 146., 146., 146., 144., 143., 147.,\n",
              "         147., 145.,  89., 146., 145., 148., 148., 151., 149., 149., 147., 153.,\n",
              "         155., 150., 146., 150., 149., 151., 147., 148., 140., 143., 144., 140.,\n",
              "         148., 149., 156., 146., 150., 145.,  37.,  62., 145., 142., 150., 147.,\n",
              "         151., 153., 144., 149., 150., 150., 148., 150., 147., 151., 146., 149.,\n",
              "         145., 144., 143., 147., 152., 149., 148., 135.,  71., 153.,  81., 148.,\n",
              "         149., 154., 149., 148., 151., 149., 147., 151., 150., 155., 146., 146.,\n",
              "         147., 151., 147., 147., 141., 144., 149., 150.,  38.,  84., 152., 148.,\n",
              "         154., 155., 139., 148., 150., 146., 150., 149., 150., 151., 155., 154.,\n",
              "         152., 152., 151., 153., 150., 152., 148., 149., 103., 150., 155., 150.,\n",
              "         154., 152., 147., 151., 153., 150., 147., 146., 153., 148., 148., 145.,\n",
              "         147., 154., 153., 149., 153., 156., 152., 146., 153., 154., 155., 155.,\n",
              "         158., 148., 153., 148., 150., 143., 155., 151., 144., 150., 146., 150.,\n",
              "         153., 148., 152., 151., 151., 155., 151., 155., 151., 150., 153., 153.,\n",
              "         150., 150., 152., 151., 153., 157., 151., 149., 158., 148., 149., 152.,\n",
              "         151., 155., 153., 151., 154., 156., 155., 148., 154., 158., 152., 154.,\n",
              "         155., 154., 152., 153., 151., 154., 152., 153., 145., 152., 147., 150.,\n",
              "         151., 152., 153., 154., 153., 141., 140., 151., 149., 151., 151., 151.,\n",
              "         156., 156., 156., 158., 152., 154., 156., 155., 155., 152., 156., 154.,\n",
              "         151., 150., 152., 151., 156., 147., 151., 153., 152., 139., 152., 152.,\n",
              "         155., 145., 155., 151., 156., 155., 153., 150., 155., 155., 155., 154.,\n",
              "         152., 152., 152., 151., 155., 154., 153., 151., 149., 154., 149., 151.,\n",
              "         150., 114., 153., 148., 152., 150., 150., 153., 154., 154., 157., 162.,\n",
              "         153., 153., 159., 153., 155., 155., 158., 151., 148., 152., 154., 152.,\n",
              "         150., 150., 153., 151., 150.,  99., 151., 152., 148., 153., 148., 154.,\n",
              "         155., 157., 154., 154., 158., 156., 155., 153., 151., 149., 153., 152.,\n",
              "         147., 154., 155., 151., 153., 150., 155., 153., 157., 105., 148., 153.,\n",
              "         149., 152., 151., 154., 152., 153., 153., 156., 154., 156., 156., 157.,\n",
              "         155., 141., 151., 153., 148., 152., 154., 152., 152., 154., 148., 152.,\n",
              "         148., 132., 150., 150., 148., 148., 151., 152., 152., 150., 151., 153.,\n",
              "         154., 159., 149., 156., 158., 156., 154., 157., 154., 156., 154., 149.,\n",
              "         154., 152., 151., 150., 154., 106., 147., 150., 155., 151., 149., 154.,\n",
              "         149., 153., 150., 155., 152., 152., 152., 156., 156., 157., 151., 153.,\n",
              "         157., 155., 151., 151., 148., 150., 153., 149., 153.,  96., 150., 150.,\n",
              "         149., 150., 151., 149., 149., 156., 156., 150., 155., 151., 151., 160.,\n",
              "         155., 155., 156., 154., 156., 155., 152., 149., 153., 145., 151., 151.,\n",
              "         155., 126., 155., 153., 147., 145., 149., 152., 151., 153., 148., 156.,\n",
              "         154., 153., 154., 151., 153., 154., 156., 154., 153., 151., 159., 152.,\n",
              "         152., 153., 153., 156., 149., 155., 148., 151., 150., 150., 148., 153.,\n",
              "         152., 151., 153., 148.]], device='cuda:0')"
            ]
          },
          "metadata": {},
          "execution_count": 98
        }
      ]
    },
    {
      "cell_type": "code",
      "source": [],
      "metadata": {
        "id": "JlCV2wV2XZJv"
      },
      "execution_count": null,
      "outputs": []
    },
    {
      "cell_type": "code",
      "source": [
        "plot_predictions(predictions=y_preds.cpu())"
      ],
      "metadata": {
        "id": "hsjUTs_GAaW3"
      },
      "execution_count": null,
      "outputs": []
    },
    {
      "cell_type": "code",
      "source": [
        "from pathlib import Path\n",
        "\n",
        "MODEL_PATH = Path(\"models\")\n",
        "MODEL_PATH.mkdir(parents=True, exist_ok = True)\n",
        "\n",
        "MODEL_NAME = \"01_pytorch_homework.pth\"\n",
        "MODEL_SAVE_PATH = MODEL_PATH / MODEL_NAME\n",
        "\n",
        "MODEL_SAVE_PATH"
      ],
      "metadata": {
        "id": "Squ6qtEvA23s"
      },
      "execution_count": null,
      "outputs": []
    },
    {
      "cell_type": "code",
      "source": [
        "torch.save(f=MODEL_SAVE_PATH, obj = model.state_dict())"
      ],
      "metadata": {
        "id": "zJWyDw8XB_Ld"
      },
      "execution_count": null,
      "outputs": []
    },
    {
      "cell_type": "code",
      "source": [
        "loaded_model = LinearRegressionModel()\n",
        "loaded_model.load_state_dict(torch.load(MODEL_SAVE_PATH))\n",
        "\n",
        "loaded_model = loaded_model.to(device)\n",
        "\n",
        "model.state_dict()"
      ],
      "metadata": {
        "id": "-2vadzZYCKJJ"
      },
      "execution_count": null,
      "outputs": []
    },
    {
      "cell_type": "code",
      "source": [
        "loaded_model.state_dict()"
      ],
      "metadata": {
        "id": "7DskKuuuEEDh"
      },
      "execution_count": null,
      "outputs": []
    },
    {
      "cell_type": "code",
      "source": [],
      "metadata": {
        "id": "FzDgJAiXEJs8"
      },
      "execution_count": null,
      "outputs": []
    }
  ]
}