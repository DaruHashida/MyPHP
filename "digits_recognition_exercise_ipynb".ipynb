{
  "nbformat": 4,
  "nbformat_minor": 0,
  "metadata": {
    "colab": {
      "provenance": [],
      "gpuType": "T4",
      "authorship_tag": "ABX9TyOGVs30O3zxsQC0xB76PZbe",
      "include_colab_link": true
    },
    "kernelspec": {
      "name": "python3",
      "display_name": "Python 3"
    },
    "language_info": {
      "name": "python"
    },
    "accelerator": "GPU"
  },
  "cells": [
    {
      "cell_type": "markdown",
      "metadata": {
        "id": "view-in-github",
        "colab_type": "text"
      },
      "source": [
        "<a href=\"https://colab.research.google.com/github/DaruHashida/MyPHP/blob/main/%22digits_recognition_exercise_ipynb%22.ipynb\" target=\"_parent\"><img src=\"https://colab.research.google.com/assets/colab-badge.svg\" alt=\"Open In Colab\"/></a>"
      ]
    },
    {
      "cell_type": "code",
      "execution_count": 1,
      "metadata": {
        "id": "jprUm7hx4FRG",
        "colab": {
          "base_uri": "https://localhost:8080/",
          "height": 447
        },
        "outputId": "203e79bf-d4a9-43bf-dc2b-4b39ca003bdb"
      },
      "outputs": [
        {
          "output_type": "execute_result",
          "data": {
            "text/plain": [
              "<matplotlib.image.AxesImage at 0x7bc5e7908070>"
            ]
          },
          "metadata": {},
          "execution_count": 1
        },
        {
          "output_type": "display_data",
          "data": {
            "text/plain": [
              "<Figure size 640x480 with 1 Axes>"
            ],
            "image/png": "[encoded data removed]"
          },
          "metadata": {}
        }
      ],
      "source": [
        "import torch\n",
        "from torch import nn\n",
        "import matplotlib.pyplot as plt\n",
        "\n",
        "# Device agnostic code\n",
        "\n",
        "device = \"cuda\" if torch.cuda.is_available() else \"cpu\"\n",
        "\n",
        "##LET'S CREATE A DATASET\n",
        "from pathlib import Path\n",
        "import requests\n",
        "\n",
        "DATA_PATH = Path(\"data\")\n",
        "PATH = DATA_PATH / \"mnist\"\n",
        "\n",
        "PATH.mkdir(parents=True, exist_ok = True)\n",
        "\n",
        "URL = \"https://github.com/pytorch/tutorials/raw/main/_static/\"\n",
        "FILENAME = \"mnist.pkl.gz\"\n",
        "\n",
        "if not (PATH/FILENAME).exists():\n",
        "  content = requests.get(URL + FILENAME).content\n",
        "  (PATH/FILENAME).open(\"wb\").write(content)\n",
        "\n",
        "import pickle\n",
        "import gzip\n",
        "with gzip.open((PATH/FILENAME).as_posix(),\"rb\") as f:\n",
        "  ((X_train, y_train),(X_test, y_test), _ )= pickle.load(f, encoding=\"latin-1\")\n",
        "\n",
        "import matplotlib.pyplot as plt\n",
        "import numpy as np\n",
        "plt.imshow(X_train[116].reshape((28,28)),cmap=\"gray\")"
      ]
    },
    {
      "cell_type": "code",
      "source": [
        "X_train, y_train, X_test, y_test = map (torch.tensor, (X_train, y_train, X_test, y_test))"
      ],
      "metadata": {
        "id": "dl3njxx8Mgih"
      },
      "execution_count": 2,
      "outputs": []
    },
    {
      "cell_type": "code",
      "source": [
        "#Let's build the model\n",
        "\n",
        "class PicturesRecognitionModel(nn.Module):\n",
        "  def __init__(self):\n",
        "    super().__init__()\n",
        "    self.weights = nn.Parameter(torch.randn(784, 10,\n",
        "                                            requires_grad=True,\n",
        "                                            dtype=torch.float))\n",
        "    self.bias = nn.Parameter(torch.zeros(10,\n",
        "                                            requires_grad=True,\n",
        "                                            dtype=torch.float))\n",
        "  def forward(self,xb: torch.Tensor) -> torch.Tensor:\n",
        "    return xb @ self.weights + self.bias"
      ],
      "metadata": {
        "id": "kUkVdwu-06zh"
      },
      "execution_count": 3,
      "outputs": []
    },
    {
      "cell_type": "code",
      "source": [
        "model = PicturesRecognitionModel()\n",
        "model.to(device)\n",
        "model.state_dict()"
      ],
      "metadata": {
        "colab": {
          "base_uri": "https://localhost:8080/"
        },
        "id": "BGyQEXWs7Hw4",
        "outputId": "a0a150b2-1f9f-4ad0-a92d-ee1ca1e05aaf"
      },
      "execution_count": 4,
      "outputs": [
        {
          "output_type": "execute_result",
          "data": {
            "text/plain": [
              "OrderedDict([('weights',\n",
              "              tensor([[-0.2428,  1.4591,  0.5572,  ..., -0.0334,  1.2127, -0.1333],\n",
              "                      [-0.5189, -0.1495,  1.3325,  ...,  0.0765, -0.7191,  1.0642],\n",
              "                      [-2.1942, -0.7374,  0.9994,  ...,  0.3115,  1.0460, -0.5900],\n",
              "                      ...,\n",
              "                      [-0.2351, -0.5636,  0.5296,  ..., -0.2720,  0.5245,  1.2730],\n",
              "                      [-1.0601, -2.2370,  0.4350,  ...,  0.4327, -0.7313,  0.4345],\n",
              "                      [ 0.6155, -0.2059,  1.8509,  ...,  0.9055,  0.4883,  1.1735]],\n",
              "                     device='cuda:0')),\n",
              "             ('bias',\n",
              "              tensor([0., 0., 0., 0., 0., 0., 0., 0., 0., 0.], device='cuda:0'))])"
            ]
          },
          "metadata": {},
          "execution_count": 4
        }
      ]
    },
    {
      "cell_type": "code",
      "source": [
        "#Create loss function\n",
        "##loss_fn = nn.NLLLoss()\n",
        "# def nll(input, target):\n",
        "#     return -input[range(target.shape[0]), target].mean()\n",
        "#loss_fn = nll\n",
        "import torch.nn.functional as F\n",
        "loss_fn = F.cross_entropy\n",
        "optimizer = torch.optim.SGD(params=model.parameters(),\n",
        "                            lr=0.5)"
      ],
      "metadata": {
        "id": "IKLE7MOz7OrL"
      },
      "execution_count": 5,
      "outputs": []
    },
    {
      "cell_type": "code",
      "source": [
        "#Saving images count to variable\n",
        "n = X_train.shape[0]\n",
        "#Saving batch size to variable\n",
        "batch = 64\n",
        "X_test.shape"
      ],
      "metadata": {
        "colab": {
          "base_uri": "https://localhost:8080/"
        },
        "id": "trKlujaORaoc",
        "outputId": "46b2bdbc-b3ae-43f4-d0ee-d8a0a31fe806"
      },
      "execution_count": 6,
      "outputs": [
        {
          "output_type": "execute_result",
          "data": {
            "text/plain": [
              "torch.Size([10000, 784])"
            ]
          },
          "metadata": {},
          "execution_count": 6
        }
      ]
    },
    {
      "cell_type": "code",
      "source": [
        "def accuracy(out, yb):\n",
        "    preds = torch.argmax(out, dim=1)\n",
        "    return (preds == yb).float().mean()"
      ],
      "metadata": {
        "id": "uNTvv008f3eO"
      },
      "execution_count": 7,
      "outputs": []
    },
    {
      "cell_type": "code",
      "source": [
        "epochs = 100\n",
        "#Removing data on device\n",
        "X_train = X_train.to(device)\n",
        "X_test = X_test.to(device)\n",
        "y_train = y_train.to(device)\n",
        "y_test = y_test.to(device)\n",
        "#Training loop\n",
        "\n",
        "for epoch in range(epochs):\n",
        "  for i in range((n - 1)// batch + 1):\n",
        "    model.train()\n",
        "    start_i = i*batch\n",
        "    end_i = start_i+batch\n",
        "    Xb = X_train[start_i:end_i]\n",
        "    yb = y_train[start_i:end_i]\n",
        "\n",
        "    y_pred = model(Xb)\n",
        "    loss = loss_fn(y_pred, yb)\n",
        "    optimizer.zero_grad()\n",
        "    loss.backward()\n",
        "    optimizer.step()\n",
        "\n",
        "    #Testing loop\n",
        "\n",
        "    model.eval()\n",
        "    with torch.inference_mode():\n",
        "      start_i_test = start_i//5\n",
        "      end_i_test = end_i//5\n",
        "      Xb_test = X_test[start_i_test: end_i_test]\n",
        "      yb_test = y_test[start_i_test: end_i_test]\n",
        "      test_pred = model(Xb_test)\n",
        "      test_accuracy = accuracy(test_pred,yb_test)\n",
        "      main_accuracy = accuracy(y_pred,yb)\n",
        "      loss_value = loss_fn(y_pred,yb)\n",
        "  if epoch % 10 == 0:\n",
        "    print(f\"Epoch:{epoch}| Loss: {loss_value} | Test_accuracy:{test_accuracy} | Accuracy: {main_accuracy}\")"
      ],
      "metadata": {
        "colab": {
          "base_uri": "https://localhost:8080/"
        },
        "id": "bU8AwOkn9zwz",
        "outputId": "8e132403-378e-4d4b-b6ed-1050dfd0cd49"
      },
      "execution_count": 9,
      "outputs": [
        {
          "output_type": "stream",
          "name": "stdout",
          "text": [
            "Epoch:0| Loss: 0.08011341094970703 | Test_accuracy:1.0 | Accuracy: 1.0\n",
            "Epoch:10| Loss: 0.07298120856285095 | Test_accuracy:1.0 | Accuracy: 1.0\n",
            "Epoch:20| Loss: 0.07250568270683289 | Test_accuracy:1.0 | Accuracy: 1.0\n",
            "Epoch:30| Loss: 0.07220523804426193 | Test_accuracy:1.0 | Accuracy: 1.0\n",
            "Epoch:40| Loss: 0.07195387035608292 | Test_accuracy:1.0 | Accuracy: 1.0\n",
            "Epoch:50| Loss: 0.07172689586877823 | Test_accuracy:1.0 | Accuracy: 1.0\n",
            "Epoch:60| Loss: 0.07151439040899277 | Test_accuracy:1.0 | Accuracy: 1.0\n",
            "Epoch:70| Loss: 0.07131209969520569 | Test_accuracy:1.0 | Accuracy: 1.0\n",
            "Epoch:80| Loss: 0.07111771404743195 | Test_accuracy:1.0 | Accuracy: 1.0\n",
            "Epoch:90| Loss: 0.07092958688735962 | Test_accuracy:1.0 | Accuracy: 1.0\n"
          ]
        }
      ]
    },
    {
      "cell_type": "code",
      "source": [
        "with torch.inference_mode():\n",
        "  y_preds = model(X_test)"
      ],
      "metadata": {
        "id": "RIbqDtqxAXiH"
      },
      "execution_count": 10,
      "outputs": []
    },
    {
      "cell_type": "code",
      "source": [
        "xb = X_train[:batch]\n",
        "yb = y_train[:batch]\n",
        "loss_fn(model(xb), yb)\n",
        "\n"
      ],
      "metadata": {
        "colab": {
          "base_uri": "https://localhost:8080/"
        },
        "id": "cNyNWtwMisHp",
        "outputId": "24092d15-fb8b-4664-f9e3-ad28e18b8d5b"
      },
      "execution_count": 11,
      "outputs": [
        {
          "output_type": "execute_result",
          "data": {
            "text/plain": [
              "tensor(0.1249, device='cuda:0', grad_fn=<NllLossBackward0>)"
            ]
          },
          "metadata": {},
          "execution_count": 11
        }
      ]
    },
    {
      "cell_type": "code",
      "source": [
        "from pathlib import Path\n",
        "\n",
        "MODEL_PATH = Path(\"models\")\n",
        "MODEL_PATH.mkdir(parents=True, exist_ok = True)\n",
        "\n",
        "MODEL_NAME = \"01_pytorch_homework.pth\"\n",
        "MODEL_SAVE_PATH = MODEL_PATH / MODEL_NAME\n",
        "\n",
        "MODEL_SAVE_PATH"
      ],
      "metadata": {
        "colab": {
          "base_uri": "https://localhost:8080/"
        },
        "id": "2XiVtsG1p4LX",
        "outputId": "daa219ae-76a2-4b0f-8a38-e54392f5b7ac"
      },
      "execution_count": 12,
      "outputs": [
        {
          "output_type": "execute_result",
          "data": {
            "text/plain": [
              "PosixPath('models/01_pytorch_homework.pth')"
            ]
          },
          "metadata": {},
          "execution_count": 12
        }
      ]
    },
    {
      "cell_type": "code",
      "source": [
        "torch.save(f=MODEL_SAVE_PATH, obj = model.state_dict())"
      ],
      "metadata": {
        "id": "PzAEjiSDqCzL"
      },
      "execution_count": 13,
      "outputs": []
    },
    {
      "cell_type": "code",
      "source": [
        "from scipy.ndimage import center_of_mass\n",
        "import math\n",
        "import cv2\n",
        "import numpy as np\n",
        "\n",
        "def getBestShift(img):\n",
        "    cy,cx = center_of_mass(img)\n",
        "\n",
        "    rows,cols = img.shape\n",
        "    shiftx = np.round(cols/2.0-cx).astype(int)\n",
        "    shifty = np.round(rows/2.0-cy).astype(int)\n",
        "\n",
        "    return shiftx,shifty\n",
        "\n",
        "def shift(img,sx,sy):\n",
        "    rows,cols = img.shape\n",
        "    M = np.float32([[1,0,sx],[0,1,sy]])\n",
        "    shifted = cv2.warpAffine(img,M,(cols,rows))\n",
        "    return shifted\n",
        "\n",
        "def rec_digit(img_path):\n",
        "  img = cv2.imread(img_path, cv2.IMREAD_GRAYSCALE)\n",
        "  gray = 255-img\n",
        "  # применяем пороговую обработку\n",
        "  (thresh, gray) = cv2.threshold(gray, 128, 255, cv2.THRESH_BINARY | cv2.THRESH_OTSU)\n",
        "\n",
        "  # удаляем нулевые строки и столбцы\n",
        "  while np.sum(gray[0]) == 0:\n",
        "    gray = gray[1:]\n",
        "  while np.sum(gray[:,0]) == 0:\n",
        "    gray = np.delete(gray,0,1)\n",
        "  while np.sum(gray[-1]) == 0:\n",
        "    gray = gray[:-1]\n",
        "  while np.sum(gray[:,-1]) == 0:\n",
        "    gray = np.delete(gray,-1,1)\n",
        "  rows,cols = gray.shape\n",
        "\n",
        "  # изменяем размер, чтобы помещалось в box 20x20 пикселей\n",
        "  if rows > cols:\n",
        "    factor = 20.0/rows\n",
        "    rows = 20\n",
        "    cols = int(round(cols*factor))\n",
        "    gray = cv2.resize(gray, (cols,rows))\n",
        "  else:\n",
        "    factor = 20.0/cols\n",
        "    cols = 20\n",
        "    rows = int(round(rows*factor))\n",
        "    gray = cv2.resize(gray, (cols, rows))\n",
        "\n",
        "  # расширяем до размера 28x28\n",
        "  colsPadding = (int(math.ceil((28-cols)/2.0)),int(math.floor((28-cols)/2.0)))\n",
        "  rowsPadding = (int(math.ceil((28-rows)/2.0)),int(math.floor((28-rows)/2.0)))\n",
        "  gray = np.lib.pad(gray,(rowsPadding,colsPadding),'constant')\n",
        "\n",
        "  # сдвигаем центр масс\n",
        "  shiftx,shifty = getBestShift(gray)\n",
        "  shifted = shift(gray,shiftx,shifty)\n",
        "  gray = shifted\n",
        "\n",
        "  cv2.imwrite('gray'+ img_path, gray)\n",
        "  img = gray / 255.0\n",
        "  img = np.array(img).reshape(784)\n",
        "  return img"
      ],
      "metadata": {
        "id": "-SVpXfBLk1NF"
      },
      "execution_count": 18,
      "outputs": []
    },
    {
      "cell_type": "code",
      "source": [
        "data = rec_digit('4.png')\n",
        "prepared_data = torch.tensor(data, device = device,dtype=torch.float32)\n",
        "plt.imshow(prepared_data.cpu().reshape((28,28)),cmap=\"gray\")\n",
        "with torch.inference_mode():\n",
        "  res = model(prepared_data)\n",
        "result = int(res.argmax())\n",
        "print(f\"Это цифра: {result}\")\n",
        "print(res)"
      ],
      "metadata": {
        "id": "JlCV2wV2XZJv",
        "colab": {
          "base_uri": "https://localhost:8080/",
          "height": 482
        },
        "outputId": "4345356f-09c7-48d0-ae55-b1a4e62e0bfe"
      },
      "execution_count": 21,
      "outputs": [
        {
          "output_type": "stream",
          "name": "stdout",
          "text": [
            "Это цифра: 4\n",
            "tensor([-0.0664, -3.1554, -2.7690, -3.2645,  7.4618, -0.4457, -2.8377,  2.0172,\n",
            "        -4.7248,  2.6117], device='cuda:0')\n"
          ]
        },
        {
          "output_type": "display_data",
          "data": {
            "text/plain": [
              "<Figure size 640x480 with 1 Axes>"
            ],
            "image/png": "[encoded data removed]"
          },
          "metadata": {}
        }
      ]
    }
  ]
}